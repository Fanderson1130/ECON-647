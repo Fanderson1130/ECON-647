{
 "cells": [
  {
   "cell_type": "code",
   "execution_count": 1,
   "metadata": {
    "collapsed": false
   },
   "outputs": [
    {
     "data": {
      "text/plain": [
       "Sum_sq (generic function with 1 method)"
      ]
     },
     "execution_count": 1,
     "metadata": {},
     "output_type": "execute_result"
    }
   ],
   "source": [
    "#Packages\n",
    "using DataFrames\n",
    "using DataArrays\n",
    "\n",
    "#Load Data & Convert to Array\n",
    "cd(\"$(homedir())/Desktop/School/Econ 647 - Applied Computational/Problem Sets/PS2/Data\")\n",
    "pwd()\n",
    "df = readtable(\"Data_2.csv\")\n",
    "Rates = convert(Array, df[2:10])\n",
    "tau = [0.25, 0.5, 1.0, 2.0, 3.0, 5.0, 7.0, 10.0, 30.0]\n",
    "\n",
    "A(tau, kappa_r, alpha_r, sigma_r) = (2*sqrt(kappa_r^2+2*sigma_r^2)*exp((sqrt(kappa_r^2+2*sigma_r^2)+kappa_r)*tau/2) /\n",
    "((sqrt(kappa_r^2+2*sigma_r^2)+kappa_r)*(exp(sqrt(kappa_r^2+2*sigma_r^2)*tau)-1)+ 2*sqrt(kappa_r^2+2*sigma_r^2)))^(2*kappa_r*alpha_r/sigma_r^2)\n",
    "\n",
    "B(tau, kappa_r, alpha_r, sigma_r) = (2*(exp(sqrt(kappa_r^2+2*sigma_r^2)*tau)-1) /\n",
    "((sqrt(kappa_r^2+2*sigma_r^2)+kappa_r)*(exp(sqrt(kappa_r^2+2*sigma_r^2)*tau)-1)+ 2*sqrt(kappa_r^2+2*sigma_r^2)))\n",
    "\n",
    "Z(tau, kappa_r, alpha_r, sigma_r, r) = A(tau, kappa_r, alpha_r, sigma_r) * exp(-B(tau, kappa_r, alpha_r, sigma_r)*r)\n",
    "\n",
    "ROR(tau, kappa_r, alpha_r, sigma_r, r) = -100*log(Z(tau, r, kappa_r, alpha_r, sigma_r))/tau\n",
    "\n",
    "\n",
    "#Objective Function (squared residuals)\n",
    "function Sum_sq(Rates, tau, r, kappa_r, theta_r, sigma_r)\n",
    "    \n",
    "    lastDate, lastTau = size(Rates)\n",
    "    \n",
    "    resid = copy(Rates)\n",
    "    \n",
    "    for i in 1:lastDate\n",
    "        for k in 1:lastTau\n",
    "            resid[i,k] = (Rates[i,k] -  ROR(tau[k], r[i], kappa_r, theta_r, sigma_r))^2\n",
    "        end\n",
    "    end\n",
    "    \n",
    "    return sum(resid)\n",
    "    \n",
    "end\n"
   ]
  },
  {
   "cell_type": "code",
   "execution_count": 2,
   "metadata": {
    "collapsed": false,
    "nbpresent": {
     "id": "1fa91987-8d08-485a-99a8-0b27c8d091ff"
    }
   },
   "outputs": [
    {
     "name": "stdout",
     "output_type": "stream",
     "text": [
      "r = [-6.24241,-6.6006,-5.62074,-7.16493,-6.0049]\n",
      "kappa_r = [13.8936,14.9502,12.131,16.6552,13.1023]\n",
      "alpha_r = [0.02212,0.0220823,0.0220754,0.0227728,0.0224349]\n",
      "sigma_r = [-0.0750298,-0.0759521,-0.0730132,-0.0772122,-0.0747993]\n",
      "kappa_r*alpha_r = [0.307327,0.330136,0.267797,0.379285,0.293947]\n"
     ]
    }
   ],
   "source": [
    "#optimization for part A\n",
    "using Optim\n",
    "\n",
    "resid_a = Array(Float64, 5, 4)\n",
    "\n",
    "for j in 1:5\n",
    "    opt_a(y) = Sum_sq(Rates[j,:]', tau, y[1], y[2], y[3], y[4])\n",
    "    resid_a[j, :] = Optim.minimizer(optimize(opt_a, ones(4), BFGS()))\n",
    "end\n",
    "\n",
    "r = resid_a[:,1]\n",
    "kappa_r = resid_a[:,2]\n",
    "alpha_r = resid_a[:,3]\n",
    "sigma_r = resid_a[:,4]\n",
    "\n",
    "println(\"r = \", r)\n",
    "println(\"kappa_r = \", kappa_r)\n",
    "println(\"alpha_r = \", alpha_r)\n",
    "println(\"sigma_r = \", sigma_r)\n",
    "\n",
    "println(\"kappa_r*alpha_r = \", kappa_r.*alpha_r)"
   ]
  },
  {
   "cell_type": "code",
   "execution_count": 3,
   "metadata": {
    "collapsed": false,
    "nbpresent": {
     "id": "bd75233a-7f57-46d9-8ce0-25f168490a46"
    }
   },
   "outputs": [
    {
     "name": "stdout",
     "output_type": "stream",
     "text": [
      "r = [0.0558101,0.0549152,0.0556049,0.0538327,0.0573794]\n",
      "kappa_r = 0.0001034411297591333\n",
      "alpha_r = 0.044796655980134215\n",
      "sigma_r = 0.08901414693028263\n",
      "kappa_r * alpha_r = 4.633816704016318e-6\n"
     ]
    }
   ],
   "source": [
    "#Part B\n",
    "\n",
    "F_b(y) = Sum_sq(Rates, tau, [y[1], y[2], y[3], y[4], y[5]], y[6], y[7], y[8]) \n",
    "resid_b = Optim.minimizer(optimize(F_b, ones(8), BFGS()))\n",
    "\n",
    "r = resid_b[1:5]\n",
    "kappa_r = resid_b[6]\n",
    "alpha_r = resid_b[7] \n",
    "sigma_r = resid_b[8]\n",
    "\n",
    "println(\"r = \", r)\n",
    "println(\"kappa_r = \", kappa_r)\n",
    "println(\"alpha_r = \", alpha_r)\n",
    "println(\"sigma_r = \", sigma_r)\n",
    "\n",
    "println(\"kappa_r * alpha_r = \", kappa_r.*alpha_r)"
   ]
  },
  {
   "cell_type": "code",
   "execution_count": null,
   "metadata": {
    "collapsed": true
   },
   "outputs": [],
   "source": []
  }
 ],
 "metadata": {
  "kernelspec": {
   "display_name": "Julia 0.5.0",
   "language": "julia",
   "name": "julia-0.5"
  },
  "language_info": {
   "file_extension": ".jl",
   "mimetype": "application/julia",
   "name": "julia",
   "version": "0.5.0"
  }
 },
 "nbformat": 4,
 "nbformat_minor": 0
}
